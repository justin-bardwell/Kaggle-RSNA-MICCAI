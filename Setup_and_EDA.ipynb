{
  "nbformat": 4,
  "nbformat_minor": 5,
  "metadata": {
    "kernelspec": {
      "display_name": "Python 3",
      "language": "python",
      "name": "python3"
    },
    "language_info": {
      "codemirror_mode": {
        "name": "ipython",
        "version": 3
      },
      "file_extension": ".py",
      "mimetype": "text/x-python",
      "name": "python",
      "nbconvert_exporter": "python",
      "pygments_lexer": "ipython3",
      "version": "3.7.10"
    },
    "papermill": {
      "default_parameters": {},
      "duration": 158.214635,
      "end_time": "2021-07-18T07:42:09.684175",
      "environment_variables": {},
      "exception": null,
      "input_path": "__notebook__.ipynb",
      "output_path": "__notebook__.ipynb",
      "parameters": {},
      "start_time": "2021-07-18T07:39:31.469540",
      "version": "2.3.3"
    },
    "colab": {
      "name": "Setup-and-EDA.ipynb",
      "provenance": [],
      "collapsed_sections": [
        "1bfba85f",
        "c01af7a4",
        "105bcdc3",
        "34571125",
        "3d701339",
        "0c052796",
        "84cce6ab"
      ],
      "include_colab_link": true
    }
  },
  "cells": [
    {
      "cell_type": "markdown",
      "metadata": {
        "id": "view-in-github",
        "colab_type": "text"
      },
      "source": [
        "<a href=\"https://colab.research.google.com/github/justin-bardwell/Kaggle-RSNA-MICCAI/blob/main/Setup_and_EDA.ipynb\" target=\"_parent\"><img src=\"https://colab.research.google.com/assets/colab-badge.svg\" alt=\"Open In Colab\"/></a>"
      ]
    },
    {
      "cell_type": "markdown",
      "metadata": {
        "papermill": {
          "duration": 0.088179,
          "end_time": "2021-07-18T07:39:39.116180",
          "exception": false,
          "start_time": "2021-07-18T07:39:39.028001",
          "status": "completed"
        },
        "tags": [],
        "id": "327084cb"
      },
      "source": [
        "# **RSNA-MICCAI Brain Tumor Radiogenomic Classification**\n",
        "\n",
        "[![Open In Colab](https://colab.research.google.com/assets/colab-badge.svg)](https://colab.research.google.com/github/justin-bardwell/Kaggle-RSNA-MICCAI/blob/main/TEST-brain-tumor-eda-for-starter-english-version.ipynb)\n",
        "\n",
        "https://www.kaggle.com/c/rsna-miccai-brain-tumor-radiogenomic-classification\n",
        "\n",
        "\n",
        "https://drive.google.com/drive/folders/1aMKv-GfepkHkpRnZRnxxMJhGezVGClnV?usp=sharing\n",
        "\n",
        "\n",
        "This is an interesting Kaggle competition that recently opened which relates to Brain Tumour Radiogenomic Classification. The purpose of this is to provide techniques to detect the presence of a specific genetic sequence in brain tumours which has been shown to be a favourable prognostic factor and a strong predictor of responsiveness to chemotherapy. Currently, the genetic analysis of cancer requires surgery to extract a tissue sample. \n",
        "\n",
        "In Kaggle, we are provided with data which includes four types of whole brain MRI scans (FLAIR, T1w, T1Gd, T2w) for each subject as well as the MGMT promoter methylation status assoc\"iated with each subject. Methylated cases are marked as '1' and unmethylated as '0' in the data. The task is to predict a probability for the target MGMT value of each subject based on the MRI scans we are provided. Submissions are evaluated on the area under the ROC curve between the predicted probability and the observed target.\n"
      ],
      "id": "327084cb"
    },
    {
      "cell_type": "markdown",
      "metadata": {
        "id": "6YPKvuK_xblu"
      },
      "source": [
        "### Setup Github access through Google Colab\n",
        "- Navigate to http://colab.research.google.com/github.\n",
        "- Click the \"Include Private Repos\" checkbox.\n",
        "- In the popup window, sign-in to your Github account and authorize Colab to read the private files.\n",
        "- Your private repositories and notebooks will now be available via the github navigation pane."
      ],
      "id": "6YPKvuK_xblu"
    },
    {
      "cell_type": "markdown",
      "metadata": {
        "id": "vKilOsKTxbMb"
      },
      "source": [
        "### Access Google Drive files\n",
        "\n",
        "All data files can be found in the following Google Drive. \n",
        "\n",
        "https://drive.google.com/drive/folders/1aMKv-GfepkHkpRnZRnxxMJhGezVGClnV?usp=sharing\n",
        "\n",
        "The data contained in this drive comes from the following Kaggle discussion: https://www.kaggle.com/c/rsna-miccai-brain-tumor-radiogenomic-classification/discussion/253000 \n",
        "\n",
        "By using PNG files instead of the originally provided DICOM files, we greatly save on storage space and resources for our initial exploration and learning of the data.\n",
        "\n",
        "You should create a copy of the data and store it in a folder called 'Kaggle' in your own Google Drive.\n",
        "\n",
        "Run the below script to mount your Google Drive\n",
        "\n"
      ],
      "id": "vKilOsKTxbMb"
    },
    {
      "cell_type": "code",
      "metadata": {
        "colab": {
          "base_uri": "https://localhost:8080/"
        },
        "id": "nTF5aXCE7k-l",
        "outputId": "1001401e-dbcc-45b6-fd1a-554492198d12"
      },
      "source": [
        "from google.colab import drive\n",
        "drive.mount('/content/gdrive')\n",
        "\n",
        "# Click the link below to authenticate user Google account\n",
        "# Copy and Paste the authentication code into the input cell"
      ],
      "id": "nTF5aXCE7k-l",
      "execution_count": 1,
      "outputs": [
        {
          "output_type": "stream",
          "text": [
            "Drive already mounted at /content/gdrive; to attempt to forcibly remount, call drive.mount(\"/content/gdrive\", force_remount=True).\n"
          ],
          "name": "stdout"
        }
      ]
    },
    {
      "cell_type": "code",
      "metadata": {
        "colab": {
          "base_uri": "https://localhost:8080/"
        },
        "id": "2XxbuJ5374yZ",
        "outputId": "203c7b3a-402f-4eb2-9f62-0a536626b7ae"
      },
      "source": [
        "# Change your directory to where the data is stored\n",
        "%cd /content/gdrive/MyDrive/Kaggle"
      ],
      "id": "2XxbuJ5374yZ",
      "execution_count": 2,
      "outputs": [
        {
          "output_type": "stream",
          "text": [
            "/content/gdrive/MyDrive/Kaggle\n"
          ],
          "name": "stdout"
        }
      ]
    },
    {
      "cell_type": "code",
      "metadata": {
        "_cell_guid": "b1076dfc-b9ad-4769-8c92-a6c4dae69d19",
        "_uuid": "8f2839f25d086af736a60e9eeb907d3b93b6e0e5",
        "execution": {
          "iopub.execute_input": "2021-07-18T07:39:39.297289Z",
          "iopub.status.busy": "2021-07-18T07:39:39.296427Z",
          "iopub.status.idle": "2021-07-18T07:39:39.299652Z",
          "shell.execute_reply": "2021-07-18T07:39:39.299048Z",
          "shell.execute_reply.started": "2021-07-15T08:52:24.577623Z"
        },
        "papermill": {
          "duration": 0.090006,
          "end_time": "2021-07-18T07:39:39.299817",
          "exception": false,
          "start_time": "2021-07-18T07:39:39.209811",
          "status": "completed"
        },
        "tags": [],
        "id": "72f40836"
      },
      "source": [
        "import numpy as np\n",
        "import pandas as pd\n",
        "import os"
      ],
      "id": "72f40836",
      "execution_count": 3,
      "outputs": []
    },
    {
      "cell_type": "markdown",
      "metadata": {
        "papermill": {
          "duration": 0.076673,
          "end_time": "2021-07-18T07:39:39.462388",
          "exception": false,
          "start_time": "2021-07-18T07:39:39.385715",
          "status": "completed"
        },
        "tags": [],
        "id": "7f943769"
      },
      "source": [
        "## 1. What are the values we want to predict?\n",
        "\n",
        "Have a look into the training labels file provided."
      ],
      "id": "7f943769"
    },
    {
      "cell_type": "code",
      "metadata": {
        "colab": {
          "base_uri": "https://localhost:8080/",
          "height": 419
        },
        "id": "9cVGyp_E9swr",
        "outputId": "7f83dd7c-b301-45d9-85df-68df33f892ec"
      },
      "source": [
        "train_labels = pd.read_csv(\"train_labels.csv\")\n",
        "train_labels"
      ],
      "id": "9cVGyp_E9swr",
      "execution_count": 4,
      "outputs": [
        {
          "output_type": "execute_result",
          "data": {
            "text/html": [
              "<div>\n",
              "<style scoped>\n",
              "    .dataframe tbody tr th:only-of-type {\n",
              "        vertical-align: middle;\n",
              "    }\n",
              "\n",
              "    .dataframe tbody tr th {\n",
              "        vertical-align: top;\n",
              "    }\n",
              "\n",
              "    .dataframe thead th {\n",
              "        text-align: right;\n",
              "    }\n",
              "</style>\n",
              "<table border=\"1\" class=\"dataframe\">\n",
              "  <thead>\n",
              "    <tr style=\"text-align: right;\">\n",
              "      <th></th>\n",
              "      <th>BraTS21ID</th>\n",
              "      <th>MGMT_value</th>\n",
              "    </tr>\n",
              "  </thead>\n",
              "  <tbody>\n",
              "    <tr>\n",
              "      <th>0</th>\n",
              "      <td>0</td>\n",
              "      <td>1</td>\n",
              "    </tr>\n",
              "    <tr>\n",
              "      <th>1</th>\n",
              "      <td>2</td>\n",
              "      <td>1</td>\n",
              "    </tr>\n",
              "    <tr>\n",
              "      <th>2</th>\n",
              "      <td>3</td>\n",
              "      <td>0</td>\n",
              "    </tr>\n",
              "    <tr>\n",
              "      <th>3</th>\n",
              "      <td>5</td>\n",
              "      <td>1</td>\n",
              "    </tr>\n",
              "    <tr>\n",
              "      <th>4</th>\n",
              "      <td>6</td>\n",
              "      <td>1</td>\n",
              "    </tr>\n",
              "    <tr>\n",
              "      <th>...</th>\n",
              "      <td>...</td>\n",
              "      <td>...</td>\n",
              "    </tr>\n",
              "    <tr>\n",
              "      <th>580</th>\n",
              "      <td>1005</td>\n",
              "      <td>1</td>\n",
              "    </tr>\n",
              "    <tr>\n",
              "      <th>581</th>\n",
              "      <td>1007</td>\n",
              "      <td>1</td>\n",
              "    </tr>\n",
              "    <tr>\n",
              "      <th>582</th>\n",
              "      <td>1008</td>\n",
              "      <td>1</td>\n",
              "    </tr>\n",
              "    <tr>\n",
              "      <th>583</th>\n",
              "      <td>1009</td>\n",
              "      <td>0</td>\n",
              "    </tr>\n",
              "    <tr>\n",
              "      <th>584</th>\n",
              "      <td>1010</td>\n",
              "      <td>0</td>\n",
              "    </tr>\n",
              "  </tbody>\n",
              "</table>\n",
              "<p>585 rows × 2 columns</p>\n",
              "</div>"
            ],
            "text/plain": [
              "     BraTS21ID  MGMT_value\n",
              "0            0           1\n",
              "1            2           1\n",
              "2            3           0\n",
              "3            5           1\n",
              "4            6           1\n",
              "..         ...         ...\n",
              "580       1005           1\n",
              "581       1007           1\n",
              "582       1008           1\n",
              "583       1009           0\n",
              "584       1010           0\n",
              "\n",
              "[585 rows x 2 columns]"
            ]
          },
          "metadata": {
            "tags": []
          },
          "execution_count": 4
        }
      ]
    },
    {
      "cell_type": "markdown",
      "metadata": {
        "id": "wY7B_A1D95oe"
      },
      "source": [
        "* BraTS21ID is the patient's Id,\n",
        "\n",
        "* Methylated cases are marked as '1' and unmethylated as '0' in the data. The task is to predict a probability for the target MGMT value of each subject based on the MRI scans we are provided.\n",
        "\n",
        "Have a look at the sample submission file provided by Kaggle:"
      ],
      "id": "wY7B_A1D95oe"
    },
    {
      "cell_type": "code",
      "metadata": {
        "execution": {
          "iopub.execute_input": "2021-07-18T07:39:39.617382Z",
          "iopub.status.busy": "2021-07-18T07:39:39.616679Z",
          "iopub.status.idle": "2021-07-18T07:39:39.738571Z",
          "shell.execute_reply": "2021-07-18T07:39:39.739056Z",
          "shell.execute_reply.started": "2021-07-15T08:52:25.701587Z"
        },
        "papermill": {
          "duration": 0.201979,
          "end_time": "2021-07-18T07:39:39.739260",
          "exception": false,
          "start_time": "2021-07-18T07:39:39.537281",
          "status": "completed"
        },
        "tags": [],
        "id": "92d9c9f5",
        "colab": {
          "base_uri": "https://localhost:8080/",
          "height": 419
        },
        "outputId": "96207da0-b7d3-4975-ee20-f5a2013cffe5"
      },
      "source": [
        "sample = pd.read_csv(\"sample_submission.csv\")\n",
        "sample"
      ],
      "id": "92d9c9f5",
      "execution_count": 5,
      "outputs": [
        {
          "output_type": "execute_result",
          "data": {
            "text/html": [
              "<div>\n",
              "<style scoped>\n",
              "    .dataframe tbody tr th:only-of-type {\n",
              "        vertical-align: middle;\n",
              "    }\n",
              "\n",
              "    .dataframe tbody tr th {\n",
              "        vertical-align: top;\n",
              "    }\n",
              "\n",
              "    .dataframe thead th {\n",
              "        text-align: right;\n",
              "    }\n",
              "</style>\n",
              "<table border=\"1\" class=\"dataframe\">\n",
              "  <thead>\n",
              "    <tr style=\"text-align: right;\">\n",
              "      <th></th>\n",
              "      <th>BraTS21ID</th>\n",
              "      <th>MGMT_value</th>\n",
              "    </tr>\n",
              "  </thead>\n",
              "  <tbody>\n",
              "    <tr>\n",
              "      <th>0</th>\n",
              "      <td>1</td>\n",
              "      <td>0.5</td>\n",
              "    </tr>\n",
              "    <tr>\n",
              "      <th>1</th>\n",
              "      <td>13</td>\n",
              "      <td>0.5</td>\n",
              "    </tr>\n",
              "    <tr>\n",
              "      <th>2</th>\n",
              "      <td>15</td>\n",
              "      <td>0.5</td>\n",
              "    </tr>\n",
              "    <tr>\n",
              "      <th>3</th>\n",
              "      <td>27</td>\n",
              "      <td>0.5</td>\n",
              "    </tr>\n",
              "    <tr>\n",
              "      <th>4</th>\n",
              "      <td>37</td>\n",
              "      <td>0.5</td>\n",
              "    </tr>\n",
              "    <tr>\n",
              "      <th>...</th>\n",
              "      <td>...</td>\n",
              "      <td>...</td>\n",
              "    </tr>\n",
              "    <tr>\n",
              "      <th>82</th>\n",
              "      <td>826</td>\n",
              "      <td>0.5</td>\n",
              "    </tr>\n",
              "    <tr>\n",
              "      <th>83</th>\n",
              "      <td>829</td>\n",
              "      <td>0.5</td>\n",
              "    </tr>\n",
              "    <tr>\n",
              "      <th>84</th>\n",
              "      <td>833</td>\n",
              "      <td>0.5</td>\n",
              "    </tr>\n",
              "    <tr>\n",
              "      <th>85</th>\n",
              "      <td>997</td>\n",
              "      <td>0.5</td>\n",
              "    </tr>\n",
              "    <tr>\n",
              "      <th>86</th>\n",
              "      <td>1006</td>\n",
              "      <td>0.5</td>\n",
              "    </tr>\n",
              "  </tbody>\n",
              "</table>\n",
              "<p>87 rows × 2 columns</p>\n",
              "</div>"
            ],
            "text/plain": [
              "    BraTS21ID  MGMT_value\n",
              "0           1         0.5\n",
              "1          13         0.5\n",
              "2          15         0.5\n",
              "3          27         0.5\n",
              "4          37         0.5\n",
              "..        ...         ...\n",
              "82        826         0.5\n",
              "83        829         0.5\n",
              "84        833         0.5\n",
              "85        997         0.5\n",
              "86       1006         0.5\n",
              "\n",
              "[87 rows x 2 columns]"
            ]
          },
          "metadata": {
            "tags": []
          },
          "execution_count": 5
        }
      ]
    },
    {
      "cell_type": "markdown",
      "metadata": {
        "papermill": {
          "duration": 0.076379,
          "end_time": "2021-07-18T07:39:39.891625",
          "exception": false,
          "start_time": "2021-07-18T07:39:39.815246",
          "status": "completed"
        },
        "tags": [],
        "id": "37e39942"
      },
      "source": [
        "As seen above, the MGMT_value we want to predict should be a value between 0 and 1 where this value represents the probability of a subject being a methylated case. Our submissions will be evaluated on the area under the ROC curve between the predicted probability and the observed target."
      ],
      "id": "37e39942"
    },
    {
      "cell_type": "markdown",
      "metadata": {
        "papermill": {
          "duration": 0.073309,
          "end_time": "2021-07-18T07:39:40.187023",
          "exception": false,
          "start_time": "2021-07-18T07:39:40.113714",
          "status": "completed"
        },
        "tags": [],
        "id": "782f1880"
      },
      "source": [
        "# 2. What do our training instances look like?"
      ],
      "id": "782f1880"
    },
    {
      "cell_type": "markdown",
      "metadata": {
        "papermill": {
          "duration": 0.074433,
          "end_time": "2021-07-18T07:39:40.335163",
          "exception": false,
          "start_time": "2021-07-18T07:39:40.260730",
          "status": "completed"
        },
        "tags": [],
        "id": "cec7ded6"
      },
      "source": [
        "## 2.1 Train.csv file structure"
      ],
      "id": "cec7ded6"
    },
    {
      "cell_type": "code",
      "metadata": {
        "execution": {
          "iopub.execute_input": "2021-07-18T07:39:40.635010Z",
          "iopub.status.busy": "2021-07-18T07:39:40.634147Z",
          "iopub.status.idle": "2021-07-18T07:39:40.649004Z",
          "shell.execute_reply": "2021-07-18T07:39:40.649478Z",
          "shell.execute_reply.started": "2021-07-14T15:28:38.218486Z"
        },
        "papermill": {
          "duration": 0.092834,
          "end_time": "2021-07-18T07:39:40.649642",
          "exception": false,
          "start_time": "2021-07-18T07:39:40.556808",
          "status": "completed"
        },
        "tags": [],
        "id": "365d7c7b",
        "colab": {
          "base_uri": "https://localhost:8080/",
          "height": 419
        },
        "outputId": "0a83d340-d90e-4007-c22c-c1fef0ee8e2e"
      },
      "source": [
        "train_labels"
      ],
      "id": "365d7c7b",
      "execution_count": 6,
      "outputs": [
        {
          "output_type": "execute_result",
          "data": {
            "text/html": [
              "<div>\n",
              "<style scoped>\n",
              "    .dataframe tbody tr th:only-of-type {\n",
              "        vertical-align: middle;\n",
              "    }\n",
              "\n",
              "    .dataframe tbody tr th {\n",
              "        vertical-align: top;\n",
              "    }\n",
              "\n",
              "    .dataframe thead th {\n",
              "        text-align: right;\n",
              "    }\n",
              "</style>\n",
              "<table border=\"1\" class=\"dataframe\">\n",
              "  <thead>\n",
              "    <tr style=\"text-align: right;\">\n",
              "      <th></th>\n",
              "      <th>BraTS21ID</th>\n",
              "      <th>MGMT_value</th>\n",
              "    </tr>\n",
              "  </thead>\n",
              "  <tbody>\n",
              "    <tr>\n",
              "      <th>0</th>\n",
              "      <td>0</td>\n",
              "      <td>1</td>\n",
              "    </tr>\n",
              "    <tr>\n",
              "      <th>1</th>\n",
              "      <td>2</td>\n",
              "      <td>1</td>\n",
              "    </tr>\n",
              "    <tr>\n",
              "      <th>2</th>\n",
              "      <td>3</td>\n",
              "      <td>0</td>\n",
              "    </tr>\n",
              "    <tr>\n",
              "      <th>3</th>\n",
              "      <td>5</td>\n",
              "      <td>1</td>\n",
              "    </tr>\n",
              "    <tr>\n",
              "      <th>4</th>\n",
              "      <td>6</td>\n",
              "      <td>1</td>\n",
              "    </tr>\n",
              "    <tr>\n",
              "      <th>...</th>\n",
              "      <td>...</td>\n",
              "      <td>...</td>\n",
              "    </tr>\n",
              "    <tr>\n",
              "      <th>580</th>\n",
              "      <td>1005</td>\n",
              "      <td>1</td>\n",
              "    </tr>\n",
              "    <tr>\n",
              "      <th>581</th>\n",
              "      <td>1007</td>\n",
              "      <td>1</td>\n",
              "    </tr>\n",
              "    <tr>\n",
              "      <th>582</th>\n",
              "      <td>1008</td>\n",
              "      <td>1</td>\n",
              "    </tr>\n",
              "    <tr>\n",
              "      <th>583</th>\n",
              "      <td>1009</td>\n",
              "      <td>0</td>\n",
              "    </tr>\n",
              "    <tr>\n",
              "      <th>584</th>\n",
              "      <td>1010</td>\n",
              "      <td>0</td>\n",
              "    </tr>\n",
              "  </tbody>\n",
              "</table>\n",
              "<p>585 rows × 2 columns</p>\n",
              "</div>"
            ],
            "text/plain": [
              "     BraTS21ID  MGMT_value\n",
              "0            0           1\n",
              "1            2           1\n",
              "2            3           0\n",
              "3            5           1\n",
              "4            6           1\n",
              "..         ...         ...\n",
              "580       1005           1\n",
              "581       1007           1\n",
              "582       1008           1\n",
              "583       1009           0\n",
              "584       1010           0\n",
              "\n",
              "[585 rows x 2 columns]"
            ]
          },
          "metadata": {
            "tags": []
          },
          "execution_count": 6
        }
      ]
    },
    {
      "cell_type": "markdown",
      "metadata": {
        "papermill": {
          "duration": 0.074363,
          "end_time": "2021-07-18T07:39:40.798615",
          "exception": false,
          "start_time": "2021-07-18T07:39:40.724252",
          "status": "completed"
        },
        "tags": [],
        "id": "aa654765"
      },
      "source": [
        "The training data contains four types of whole brain MRI scans (FLAIR, T1w, T1wCE, and T2w) as shown below."
      ],
      "id": "aa654765"
    },
    {
      "cell_type": "code",
      "metadata": {
        "colab": {
          "base_uri": "https://localhost:8080/",
          "height": 251
        },
        "id": "OnLkPrxKFDWS",
        "outputId": "32bfba95-adcb-4472-d172-26dbe8a03587"
      },
      "source": [
        "import matplotlib.pyplot as plt\n",
        "import matplotlib.image as mpimg\n",
        "\n",
        "img1 = mpimg.imread('train/00000/FLAIR/Image-100.png')\n",
        "img2 = mpimg.imread('train/00000/T1w/Image-16.png')\n",
        "img3 = mpimg.imread('train/00000/T1wCE/Image-52.png')\n",
        "img4 = mpimg.imread('train/00000/T2w/Image-168.png')\n",
        "\n",
        "scans = ['FLAIR', 'T1w', 'T1wCE', 'T2w']\n",
        "imgs = [img1, img2, img3, img4]\n",
        "\n",
        "plt.figure(figsize=(15, 5))\n",
        "plt.gray()\n",
        "\n",
        "for i in range(len(scans)):\n",
        "    plt.subplot(1, 4, i+1)\n",
        "    plt.imshow(imgs[i])\n",
        "    plt.title(scans[i], fontsize=20)\n",
        "\n",
        "plt.show()"
      ],
      "id": "OnLkPrxKFDWS",
      "execution_count": 7,
      "outputs": [
        {
          "output_type": "display_data",
          "data": {
            "image/png": "[encoded data removed]",
            "text/plain": [
              "<Figure size 1080x360 with 4 Axes>"
            ]
          },
          "metadata": {
            "tags": [],
            "needs_background": "light"
          }
        }
      ]
    },
    {
      "cell_type": "markdown",
      "metadata": {
        "papermill": {
          "duration": 0.094901,
          "end_time": "2021-07-18T07:39:40.973846",
          "exception": false,
          "start_time": "2021-07-18T07:39:40.878945",
          "status": "completed"
        },
        "tags": [],
        "id": "947c15d0"
      },
      "source": [
        "The above images show one image from the FLAIR, T1w, T1wCE and T2w scans for subject 0.\n",
        "\n",
        "For each subject, there are many scans of each type."
      ],
      "id": "947c15d0"
    },
    {
      "cell_type": "markdown",
      "metadata": {
        "papermill": {
          "duration": 0.078341,
          "end_time": "2021-07-18T07:39:42.647024",
          "exception": false,
          "start_time": "2021-07-18T07:39:42.568683",
          "status": "completed"
        },
        "tags": [],
        "id": "c01af7a4"
      },
      "source": [
        "## 2.2 Inspect how many scans there are for each subject\n"
      ],
      "id": "c01af7a4"
    },
    {
      "cell_type": "markdown",
      "metadata": {
        "execution": {
          "iopub.execute_input": "2021-07-14T14:46:23.097731Z",
          "iopub.status.busy": "2021-07-14T14:46:23.097356Z",
          "iopub.status.idle": "2021-07-14T14:46:23.105586Z",
          "shell.execute_reply": "2021-07-14T14:46:23.103941Z",
          "shell.execute_reply.started": "2021-07-14T14:46:23.097697Z"
        },
        "papermill": {
          "duration": 0.077669,
          "end_time": "2021-07-18T07:39:42.802983",
          "exception": false,
          "start_time": "2021-07-18T07:39:42.725314",
          "status": "completed"
        },
        "tags": [],
        "id": "bebc5a04"
      },
      "source": [
        "Create a new dataframe which contains our training data and the index of the folders which the images are contained."
      ],
      "id": "bebc5a04"
    },
    {
      "cell_type": "code",
      "metadata": {
        "papermill": {
          "duration": 0.359015,
          "end_time": "2021-07-18T07:42:07.801760",
          "exception": false,
          "start_time": "2021-07-18T07:42:07.442745",
          "status": "completed"
        },
        "tags": [],
        "id": "391c292a"
      },
      "source": [
        ""
      ],
      "id": "391c292a",
      "execution_count": null,
      "outputs": []
    },
    {
      "cell_type": "code",
      "metadata": {
        "id": "-Ng9uM6nxYjS"
      },
      "source": [
        ""
      ],
      "id": "-Ng9uM6nxYjS",
      "execution_count": null,
      "outputs": []
    },
    {
      "cell_type": "markdown",
      "metadata": {
        "id": "TzArhY56_2zy"
      },
      "source": [
        "https://paperswithcode.com/"
      ],
      "id": "TzArhY56_2zy"
    },
    {
      "cell_type": "code",
      "metadata": {
        "id": "EjpmH-la_3QF"
      },
      "source": [
        ""
      ],
      "id": "EjpmH-la_3QF",
      "execution_count": null,
      "outputs": []
    }
  ]
}